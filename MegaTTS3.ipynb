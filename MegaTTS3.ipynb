{
  "nbformat": 4,
  "nbformat_minor": 0,
  "metadata": {
    "colab": {
      "provenance": [],
      "gpuType": "T4"
    },
    "kernelspec": {
      "name": "python3",
      "display_name": "Python 3"
    },
    "language_info": {
      "name": "python"
    },
    "accelerator": "GPU"
  },
  "cells": [
    {
      "cell_type": "code",
      "execution_count": null,
      "metadata": {
        "id": "-EG8-__umLoI"
      },
      "outputs": [],
      "source": [
        "%pip install uv\n",
        "!uv tool install 'huggingface_hub[cli]'"
      ]
    },
    {
      "cell_type": "code",
      "source": [
        "# Clone the repository\n",
        "!git clone https://github.com/bytedance/MegaTTS3\n",
        "\n",
        "\n",
        "%cd MegaTTS3\n",
        "\n",
        "!uv init -p 3.10\n",
        "!uv add -r requirements.txt\n",
        "\n",
        "!hf download ByteDance/MegaTTS3 --local-dir=/content/MegaTTS3/checkpoints"
      ],
      "metadata": {
        "id": "nkBJ26UCmosA"
      },
      "execution_count": null,
      "outputs": []
    },
    {
      "cell_type": "code",
      "source": [
        "# /content/MegaTTS3\n",
        "with open(\"tts/gradio_api.py\", encoding='utf8') as fi:\n",
        "  file_with_share = []\n",
        "  for line in fi.readlines():\n",
        "    if \"api_interface.launch(debug=True)\" in line:\n",
        "      line = line.replace(\"api_interface.launch(debug=True)\", \"api_interface.launch(share=True, debug=True)\")\n",
        "    file_with_share.append(line)\n",
        "  with open(\"tts/webui_with_share.py\", 'w', encoding=\"utf8\") as fo:\n",
        "    fo.writelines(file_with_share)\n",
        "\n",
        "\n"
      ],
      "metadata": {
        "id": "mt6VNhzJ0tWh"
      },
      "execution_count": 3,
      "outputs": []
    },
    {
      "cell_type": "code",
      "source": [
        "import os\n",
        "\n",
        "os.environ['CUDA_VISIBLE_DEVICES'] = '0'\n",
        "os.environ[\"PYTHONPATH\"] = \"/content/MegaTTS3\" + \":\" + os.environ.get('PYTHONPATH', '')\n",
        "\n",
        "\n",
        "!uv run python ./tts/webui_with_share.py"
      ],
      "metadata": {
        "id": "Jw06zvXpqpye"
      },
      "execution_count": null,
      "outputs": []
    }
  ]
}